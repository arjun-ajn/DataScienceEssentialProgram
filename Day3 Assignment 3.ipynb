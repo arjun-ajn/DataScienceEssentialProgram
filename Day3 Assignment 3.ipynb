{
 "cells": [
  {
   "cell_type": "code",
   "execution_count": 2,
   "metadata": {},
   "outputs": [],
   "source": [
    "import numpy as np"
   ]
  },
  {
   "cell_type": "raw",
   "metadata": {},
   "source": [
    "Questions 1:\n",
    "Create a numpy array starting from 2 till 50 with a stepsize of 3."
   ]
  },
  {
   "cell_type": "code",
   "execution_count": 4,
   "metadata": {},
   "outputs": [
    {
     "data": {
      "text/plain": [
       "array([ 2,  5,  8, 11, 14, 17, 20, 23, 26, 29, 32, 35, 38, 41, 44, 47])"
      ]
     },
     "execution_count": 4,
     "metadata": {},
     "output_type": "execute_result"
    }
   ],
   "source": [
    "arr1 = np.arange(2,50,3)\n",
    "arr1"
   ]
  },
  {
   "cell_type": "raw",
   "metadata": {},
   "source": [
    "Questions 2:\n",
    "Accept two lists of 5 elements each from the user.\n",
    "Convert them to numpy arrays.\n",
    "Concatenate these arrays and print it.\n",
    "Also sort these arrays and print it."
   ]
  },
  {
   "cell_type": "code",
   "execution_count": 43,
   "metadata": {},
   "outputs": [
    {
     "name": "stdout",
     "output_type": "stream",
     "text": [
      "0\n",
      "9\n",
      "8\n",
      "7\n",
      "6\n",
      "5\n",
      "4\n",
      "3\n",
      "2\n",
      "1\n",
      "ARRAY \n",
      " [[0 9 8 7 6]\n",
      " [5 4 3 2 1]]\n",
      "SORTED ARRAY \n",
      " [[0 6 7 8 9]\n",
      " [1 2 3 4 5]]\n"
     ]
    }
   ],
   "source": [
    "l1 = []\n",
    "l2 = []\n",
    "\n",
    "def arr(l):\n",
    "    for i in range(0,5):\n",
    "        if l == 1:\n",
    "            l1.append(int(input()))\n",
    "        elif l == 2:\n",
    "            l2.append(int(input()))\n",
    "        else:\n",
    "            print(\"Invalid list number\")\n",
    "        i+=1\n",
    "\n",
    "arr(1)\n",
    "arr(2)\n",
    "\n",
    "arr1 = np.array([l1])\n",
    "arr2 = np.array([l2])\n",
    "\n",
    "arr = np.concatenate((arr1, arr2))\n",
    "print(\"ARRAY\", \"\\n\", arr)\n",
    "arr.sort()\n",
    "print(\"SORTED ARRAY\", \"\\n\", arr)"
   ]
  },
  {
   "cell_type": "raw",
   "metadata": {},
   "source": [
    "Questions 3:\n",
    "Write a code snippet to find the dimensions of a ndarray and its size."
   ]
  },
  {
   "cell_type": "code",
   "execution_count": 65,
   "metadata": {},
   "outputs": [
    {
     "name": "stdout",
     "output_type": "stream",
     "text": [
      "[[0 9 8 7 6]\n",
      " [5 4 3 2 1]\n",
      " [5 4 3 2 1]\n",
      " [0 9 8 7 6]\n",
      " [5 4 3 2 1]]\n",
      "Dimension:  2\n",
      "Shape:  (5, 5)\n",
      "Size:  25\n"
     ]
    }
   ],
   "source": [
    "arr = np.concatenate((arr1, arr2, arr2, arr1, arr2))\n",
    "print(arr)\n",
    "print(\"Dimension: \", arr.ndim)\n",
    "print(\"Shape: \", arr.shape)\n",
    "print(\"Size: \", arr.size)"
   ]
  },
  {
   "cell_type": "raw",
   "metadata": {},
   "source": [
    "Questions 4:\n",
    "How to convert a 1D array into a 2D array? Demonstrate with the help of a code snippet\n",
    "Hint: np.newaxis, np.expand_dims"
   ]
  },
  {
   "cell_type": "code",
   "execution_count": 93,
   "metadata": {},
   "outputs": [
    {
     "name": "stdout",
     "output_type": "stream",
     "text": [
      "(5,)\n",
      "(5, 1)\n",
      "(5, 1)\n"
     ]
    }
   ],
   "source": [
    "arr3 = np.array(l1)\n",
    "print(arr3.shape)\n",
    "\n",
    "print(arr3[:, np.newaxis].shape)\n",
    "print(np.expand_dims(arr3, axis=1).shape)"
   ]
  },
  {
   "cell_type": "raw",
   "metadata": {},
   "source": [
    "Questions 5:\n",
    "Consider two square numpy arrays. Stack them vertically and horizontally.\n",
    "Hint: Use vstack(), hstack()"
   ]
  },
  {
   "cell_type": "code",
   "execution_count": 113,
   "metadata": {},
   "outputs": [
    {
     "name": "stdout",
     "output_type": "stream",
     "text": [
      "[[0 5 5 0 0]\n",
      " [9 4 4 9 9]\n",
      " [8 3 3 8 8]\n",
      " [7 2 2 7 7]\n",
      " [6 1 1 6 6]\n",
      " [0 9 8 7 6]\n",
      " [5 4 3 2 1]\n",
      " [5 4 3 2 1]\n",
      " [0 9 8 7 6]\n",
      " [0 9 8 7 6]]\n",
      "\n",
      "\n",
      "[[0 9 8 7 6 0 5 5 0 0]\n",
      " [5 4 3 2 1 9 4 4 9 9]\n",
      " [5 4 3 2 1 8 3 3 8 8]\n",
      " [0 9 8 7 6 7 2 2 7 7]\n",
      " [0 9 8 7 6 6 1 1 6 6]]\n"
     ]
    }
   ],
   "source": [
    "arr4 = np.concatenate((arr1, arr2, arr2, arr1, arr1))\n",
    "print(np.vstack((arr4.T, arr4)))\n",
    "print(\"\\n\")\n",
    "print(np.hstack((arr4, arr4.T)))"
   ]
  },
  {
   "cell_type": "raw",
   "metadata": {},
   "source": [
    "Questions 6:\n",
    "How to get unique items and counts of unique items?"
   ]
  },
  {
   "cell_type": "code",
   "execution_count": 117,
   "metadata": {},
   "outputs": [
    {
     "data": {
      "text/plain": [
       "(array([0, 1, 2, 3, 4, 5, 6, 7, 8, 9]),\n",
       " array([3, 2, 2, 2, 2, 2, 3, 3, 3, 3], dtype=int64))"
      ]
     },
     "execution_count": 117,
     "metadata": {},
     "output_type": "execute_result"
    }
   ],
   "source": [
    "np.unique(arr4, return_counts=True)"
   ]
  }
 ],
 "metadata": {
  "kernelspec": {
   "display_name": "Python 3",
   "language": "python",
   "name": "python3"
  },
  "language_info": {
   "codemirror_mode": {
    "name": "ipython",
    "version": 3
   },
   "file_extension": ".py",
   "mimetype": "text/x-python",
   "name": "python",
   "nbconvert_exporter": "python",
   "pygments_lexer": "ipython3",
   "version": "3.8.3"
  }
 },
 "nbformat": 4,
 "nbformat_minor": 4
}
