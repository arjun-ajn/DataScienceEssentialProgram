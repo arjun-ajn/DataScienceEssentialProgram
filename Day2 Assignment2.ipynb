{
 "cells": [
  {
   "cell_type": "markdown",
   "metadata": {},
   "source": [
    "## Question 1:\n",
    "Create an empty list. Accept 10 numbers from the user and append to it the list if it is an even number."
   ]
  },
  {
   "cell_type": "code",
   "execution_count": 10,
   "metadata": {},
   "outputs": [
    {
     "name": "stdout",
     "output_type": "stream",
     "text": [
      "Enter value  1\n",
      "1\n",
      "Enter value  2\n",
      "2\n",
      "Enter value  3\n",
      "3\n",
      "Enter value  4\n",
      "3\n",
      "Enter value  5\n",
      "3\n",
      "Enter value  6\n",
      "4\n",
      "Enter value  7\n",
      "3\n",
      "Enter value  8\n",
      "2\n",
      "Enter value  9\n",
      "2\n",
      "Enter value  10\n",
      "2\n",
      "[1, 2, 3, 3, 3, 4, 3, 2, 2, 2]\n"
     ]
    }
   ],
   "source": [
    "l = []\n",
    "\n",
    "for i in range(0,10):\n",
    "    print(\"Enter value \", i+1)\n",
    "    l.append(int(input()))\n",
    "\n",
    "print(l)"
   ]
  },
  {
   "cell_type": "markdown",
   "metadata": {},
   "source": [
    "## Question 2:\n",
    "### List comprehensions\n",
    "\n",
    "SYNTAX: [OPERATION LOOP/CONDITION]"
   ]
  },
  {
   "cell_type": "code",
   "execution_count": 42,
   "metadata": {},
   "outputs": [
    {
     "name": "stdout",
     "output_type": "stream",
     "text": [
      "{1: 'banana', 2: 'banana', 3: 'banana', 4: 'banana', 5: 'banana', 6: 'banana', 7: 'banana', 8: 'banana'}\n"
     ]
    }
   ],
   "source": [
    "l1 = ['orange', 'apple', 'pear', 'banana', 'kiwi', 'apple', 'banana']\n",
    "l2 = [1,2,3,4,5,6,7,8]\n",
    "\n",
    "# Squaring each element\n",
    "[pow(i,2) for i in l2]\n",
    "\n",
    "# Combine to form dictionary\n",
    "d={}\n",
    "[d.update({y:x}) for x in l1 for y in l2]\n",
    "print(d)"
   ]
  },
  {
   "cell_type": "markdown",
   "metadata": {},
   "source": [
    "## Question 3:\n"
   ]
  },
  {
   "cell_type": "code",
   "execution_count": 56,
   "metadata": {},
   "outputs": [
    {
     "name": "stdout",
     "output_type": "stream",
     "text": [
      "8\n",
      "{1: 1, 2: 4, 3: 9, 4: 16, 5: 25, 6: 36, 7: 49, 8: 64}\n"
     ]
    }
   ],
   "source": [
    "d={}\n",
    "n = int(input())\n",
    "\n",
    "[d.update({i:i*i}) for i in range(1, n+1)]\n",
    "print(d)"
   ]
  },
  {
   "cell_type": "markdown",
   "metadata": {},
   "source": [
    "## Question 4:\n",
    "Write a program to compute the distance between the current position after\n",
    "a sequence of movement and original point. If the distance is a float, then\n",
    "just print the nearest integer (use round() function for that and then convert\n",
    "it into an integer)."
   ]
  },
  {
   "cell_type": "code",
   "execution_count": 52,
   "metadata": {},
   "outputs": [
    {
     "name": "stdout",
     "output_type": "stream",
     "text": [
      "4\n",
      "UP 5\n",
      "DOWN 3\n",
      "LEFT 3\n",
      "RIGHT 2\n",
      "2\n"
     ]
    }
   ],
   "source": [
    "import math\n",
    "\n",
    "x = 0\n",
    "y = 0\n",
    "\n",
    "hops = int(input())\n",
    "\n",
    "for h in range(0, hops):\n",
    "    mmt = input().split(' ')\n",
    "    direction = mmt[0]\n",
    "    hop = int(mmt[1])\n",
    "    if direction.upper() == \"UP\":\n",
    "        y += hop\n",
    "    elif direction.upper() == \"DOWN\":\n",
    "        y -= hop\n",
    "    elif direction.upper() == \"RIGHT\":\n",
    "        x += hop\n",
    "    elif direction.upper() == \"LEFT\":\n",
    "        x -= hop\n",
    "    else:\n",
    "        print(\"INVALID DIRECTION\")\n",
    "\n",
    "distance = round(math.sqrt(x**2+y**2))\n",
    "print(distance)"
   ]
  },
  {
   "cell_type": "code",
   "execution_count": null,
   "metadata": {},
   "outputs": [],
   "source": []
  }
 ],
 "metadata": {
  "kernelspec": {
   "display_name": "Python 3",
   "language": "python",
   "name": "python3"
  },
  "language_info": {
   "codemirror_mode": {
    "name": "ipython",
    "version": 3
   },
   "file_extension": ".py",
   "mimetype": "text/x-python",
   "name": "python",
   "nbconvert_exporter": "python",
   "pygments_lexer": "ipython3",
   "version": "3.8.3"
  }
 },
 "nbformat": 4,
 "nbformat_minor": 4
}
